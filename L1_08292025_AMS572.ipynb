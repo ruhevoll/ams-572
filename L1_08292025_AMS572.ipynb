{
 "cells": [
  {
   "cell_type": "markdown",
   "id": "6c072d6f-c408-4d25-b65c-9202a3879c10",
   "metadata": {
    "jp-MarkdownHeadingCollapsed": true,
    "tags": []
   },
   "source": [
    "# AMS 572 - Data Analysis I"
   ]
  },
  {
   "cell_type": "markdown",
   "id": "1d7d9103-eb13-4e46-a2f8-3a38b30b9c71",
   "metadata": {
    "tags": []
   },
   "source": [
    "# Lecture 1"
   ]
  },
  {
   "cell_type": "markdown",
   "id": "5fa653c5-bcb8-442e-bf33-7bdbcfb8d4e0",
   "metadata": {},
   "source": [
    "$$\\oint_\\Gamma \\varphi(z) \\ dz$$"
   ]
  },
  {
   "cell_type": "code",
   "execution_count": 1,
   "id": "9679fdb3-8bd3-4ab9-aaf9-589ec9c6b407",
   "metadata": {},
   "outputs": [
    {
     "name": "stdout",
     "output_type": "stream",
     "text": [
      "Hello World!\n"
     ]
    }
   ],
   "source": [
    "print(\"Hello World!\")"
   ]
  }
 ],
 "metadata": {
  "kernelspec": {
   "display_name": "Python [conda env:base] *",
   "language": "python",
   "name": "conda-base-py"
  },
  "language_info": {
   "codemirror_mode": {
    "name": "ipython",
    "version": 3
   },
   "file_extension": ".py",
   "mimetype": "text/x-python",
   "name": "python",
   "nbconvert_exporter": "python",
   "pygments_lexer": "ipython3",
   "version": "3.12.7"
  }
 },
 "nbformat": 4,
 "nbformat_minor": 5
}
