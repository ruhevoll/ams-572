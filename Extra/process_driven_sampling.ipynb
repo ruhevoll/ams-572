{
 "cells": [
  {
   "cell_type": "markdown",
   "id": "346f3679-4fd1-415b-a066-1f17e65ad96f",
   "metadata": {},
   "source": [
    "© Jacob White 2025, All Rights Reserved"
   ]
  },
  {
   "cell_type": "markdown",
   "id": "982ca01a-9a27-4359-93e0-6d5a7b0d95a1",
   "metadata": {},
   "source": [
    "*Notes taken from Jackel's *Monte Carlo Methods in Finance*. All code is written by me.*"
   ]
  },
  {
   "cell_type": "markdown",
   "id": "209d5c0b-3327-4454-8fc1-3d037ca82529",
   "metadata": {},
   "source": [
    "# Process-driven Sampling"
   ]
  },
  {
   "cell_type": "markdown",
   "id": "4ed137c7-3f74-447a-bb2b-010a4f770728",
   "metadata": {},
   "source": [
    "## 3.1 Strong vs. Weak Convergence"
   ]
  },
  {
   "cell_type": "markdown",
   "id": "b8de00dc-d7d9-43ad-baf2-efcabe56e38a",
   "metadata": {},
   "source": [
    "- A time-discretised approximation $Y_\\delta$ of steps not larger than $\\delta$ is said to be of general **strong convergence** of order $\\gamma$ if for any time horizon $T$ the approximation $Y_\\delta(T)$ is guaranteed to converge to the exact solution $X(T)$ in expectation by absolute difference as $$E\\left[|X(T) - Y_\\delta(T)|\\right] \\leq c \\delta^\\gamma\\tag{1}$$ for $\\delta < \\delta_0$ where $\\delta_0$ is some positive constant, and for some constant $c$.\n",
    "\n",
    "- **Weak convergence** of order $\\beta$ requires only that the numerically calculated expectation of any function $g(\\cdot)$ that is $2(\\beta + 1)$-times continuously differentiable and of polynomial growth converges to the exact equivalent. I.e., for any $g \\in C_P^{2(\\beta + 1)}$, $$\\left|E[g(X(T))] - E[g(Y_\\delta(T))]\\right| \\leq c \\delta^\\beta \\tag{2}$$ for all $\\delta \\leq \\delta_0$ and some constant $c$.\n",
    "\n",
    "- In general, any method of higher convergence order for the strong criterion is of superior performance for the purpose of option pricing.\n",
    "\n",
    "- For many schemes, the convergence order may actually be exceeded for specific SDEs."
   ]
  },
  {
   "cell_type": "markdown",
   "id": "d9967adb-9eff-4043-b8d7-9f6d66dec642",
   "metadata": {},
   "source": [
    "## 3.2 Numerical Solutions"
   ]
  },
  {
   "cell_type": "markdown",
   "id": "8007af0a-6bfb-4331-a7e2-6b82fa842d74",
   "metadata": {},
   "source": [
    "For this section, we consider solutions to the general form of a stochastic differential equation: $$dX = a \\ dt + b \\ dW \\tag{3}$$ where $a$ and $b$ can be functions of $X$ and $t$. In the multidimensional case of $m$ state variables $X_i$ driven by $d$ independent Wiener processes, we have $$dX_i = a_i(t, \\boldsymbol X) \\ dt + \\sum_{j = 1}^d b_{ij}(t, \\boldsymbol X) \\ dW_j. \\tag{4}$$"
   ]
  },
  {
   "cell_type": "markdown",
   "id": "f657f35b-6425-4297-ba20-2de86991dc78",
   "metadata": {},
   "source": [
    "### The Euler Scheme"
   ]
  },
  {
   "cell_type": "markdown",
   "id": "98b5a035-2c3a-4f1f-8690-7637fb495d44",
   "metadata": {},
   "source": [
    "Denote the numerical approximation to the solution of (3) for a scheme over equal steps of size $\\Delta t$ at time $n \\cdot \\Delta t$ as $Y(t_n)$. The Euler scheme is then given by $$Y(t_{n + 1}) = Y(t_n) + a(t_n, Y(t_n)) \\Delta t + b(t_n, Y(t_n)) \\Delta W. \\tag{Euler}$$ "
   ]
  },
  {
   "cell_type": "markdown",
   "id": "6c74cd09-fad4-4d34-ad17-68f339dcab27",
   "metadata": {},
   "source": [
    "- Euler scheme is of strong convergence order $\\frac{1}{2}$.\n",
    "- Workhorse of a numerical procedure can be used to test any other method."
   ]
  },
  {
   "cell_type": "markdown",
   "id": "9bb579a2-a594-4748-b524-8430787c324e",
   "metadata": {},
   "source": [
    "**Example**: Let's implement the Euler scheme for a stochastic differential equation of the form $$dX = a \\ dt + b \\ dW$$ where $a$ and $b$ are constant."
   ]
  },
  {
   "cell_type": "markdown",
   "id": "2c972cde-8215-487c-a281-91ec5c0b6d8d",
   "metadata": {},
   "source": [
    "Consulting the Euler scheme above, we have $$Y(t_{n + 1}) = Y(t_n) + a \\Delta t + b \\Delta W.$$ The Python implementation is below."
   ]
  },
  {
   "cell_type": "code",
   "execution_count": 196,
   "id": "f5c42411-b2d8-4d57-89e1-7e25f2df829a",
   "metadata": {},
   "outputs": [
    {
     "data": {
      "application/vnd.jupyter.widget-view+json": {
       "model_id": "c70742820ba541c7a5bd9b4eb2e983d2",
       "version_major": 2,
       "version_minor": 0
      },
      "text/plain": [
       "interactive(children=(FloatSlider(value=1.0, description='a (drift)', max=5.0, min=-5.0), FloatSlider(value=0.…"
      ]
     },
     "metadata": {},
     "output_type": "display_data"
    },
    {
     "data": {
      "text/plain": [
       "<function __main__.euler_scheme(a=1.0, b=0.5, n=100)>"
      ]
     },
     "execution_count": 196,
     "metadata": {},
     "output_type": "execute_result"
    }
   ],
   "source": [
    "import numpy as np\n",
    "from ipywidgets import interact, FloatSlider, IntSlider\n",
    "\n",
    "# Euler scheme script to solve the stochastic differential equation \n",
    "# dX = a dt + b dW\n",
    "# for a, b constant\n",
    "\n",
    "def euler_scheme(a = 1.0, b = 0.5, n = 100):\n",
    "    T: int = 1                                    # Time horizon\n",
    "    seed: int = 42                                # Seed, and also the answer to the ultimate question of life, the universe, and everything\n",
    "    np.random.seed(seed)                          # Set the random seed, comment out for the generation of random solutions\n",
    "    dt = T/n                                      # Time increments \n",
    "    dW = np.random.normal(loc = 0, scale = np.sqrt(dt), size = n)        # Generate Wiener process increments\n",
    "    time = np.linspace(0, T, n + 1)\n",
    "    \n",
    "    Y = [0]                                                              # Initial condition Y0 = 0\n",
    "    for i in range(n):\n",
    "        Y.append(Y[i] + a*dt + b*dW[i])                                  # Generates Euler scheme approximation to the SDE\n",
    "    \n",
    "    Y = np.array(Y)\n",
    "\n",
    "    plt.plot(time, Y)\n",
    "    plt.plot(time, a*time, linestyle = 'dashed', color = 'black', label = f'$y = {a} * t$')\n",
    "    plt.legend(loc = \"upper left\")\n",
    "    plt.title(f'Euler scheme approximation to the solution of the SDE $dX = {a}  dt + {b} dW$')\n",
    "    plt.show()\n",
    "\n",
    "interact(\n",
    "    euler_scheme,\n",
    "    a=FloatSlider(min=-5.0, max=5.0, step=0.1, value=1.0, description='a (drift)'),\n",
    "    b=FloatSlider(min=0.0, max=2.0, step=0.1, value=0.5, description='b (volatility)'),\n",
    "    n=IntSlider(min=10, max=1000, step=1, value=100, description='n (steps)')\n",
    ")"
   ]
  },
  {
   "cell_type": "markdown",
   "id": "ecf29644-05b7-4979-b744-09d03a929d76",
   "metadata": {},
   "source": [
    "### The Milstein Scheme"
   ]
  },
  {
   "cell_type": "markdown",
   "id": "dea7c50c-211f-458f-81b8-caa4215483b5",
   "metadata": {},
   "source": [
    "The Milstein scheme involves the addition of the next order terms of the Itô-Taylor expansion of the SDE (3), which gives $$Y(t_{n + 1}) = Y(t_n) + a(t_n, Y(t_n)) \\Delta t + b(t_n, Y(t_n)) \\Delta W + \\frac{1}{2} b \\frac{\\partial b(t, X)}{\\partial X} \\left[\\Delta W^2 - \\Delta t\\right] \\tag{Milstein}$$"
   ]
  },
  {
   "cell_type": "markdown",
   "id": "4069d225-dbcc-4e75-bd02-348523bb6ae5",
   "metadata": {},
   "source": [
    "Obviously, if $b$ is constant, we recover the original Euler scheme. Unlike the Euler scheme, its general multi-dimensional extension is not straightforward. It requires one to account for the Itô integrals involving the mixing terms $\\sum_{j = 1}^d b_{ij} (t, \\boldsymbol X) \\ dW_j$. "
   ]
  }
 ],
 "metadata": {
  "kernelspec": {
   "display_name": "Python [conda env:base] *",
   "language": "python",
   "name": "conda-base-py"
  },
  "language_info": {
   "codemirror_mode": {
    "name": "ipython",
    "version": 3
   },
   "file_extension": ".py",
   "mimetype": "text/x-python",
   "name": "python",
   "nbconvert_exporter": "python",
   "pygments_lexer": "ipython3",
   "version": "3.12.3"
  }
 },
 "nbformat": 4,
 "nbformat_minor": 5
}
