{
 "cells": [
  {
   "cell_type": "markdown",
   "id": "605d9210-034a-4ce4-bc7c-52886fbb0f07",
   "metadata": {},
   "source": [
    "© Jacob White 2025, All Rights Reserved"
   ]
  },
  {
   "cell_type": "markdown",
   "id": "4e839e5c-ba3f-4916-afc4-43bbccc5ad34",
   "metadata": {},
   "source": [
    "# Statistics and Data Analysis"
   ]
  },
  {
   "cell_type": "markdown",
   "id": "db9404f6-a393-461a-a379-b9b4c18197ce",
   "metadata": {},
   "source": [
    "# Chapter 2 - Review of Probability"
   ]
  },
  {
   "cell_type": "markdown",
   "id": "21ff277e-45bb-48ee-8418-c18a3bb9fd07",
   "metadata": {
    "jp-MarkdownHeadingCollapsed": true
   },
   "source": [
    "## 2.1 Basic ideas"
   ]
  },
  {
   "cell_type": "markdown",
   "id": "d77ccdc8-52db-41f8-aae0-9c3a5c0e03a7",
   "metadata": {},
   "source": [
    "- **Random experiment**: Procedure or an operation whose outcome is uncertain and cannot be predicted in advance.\n",
    "- **Sample space**: Set of all possible outcomes of a random experiment. Denoted in this course by $S$. "
   ]
  },
  {
   "cell_type": "markdown",
   "id": "f682a7a9-6d9f-48b9-bacb-abf372aa476e",
   "metadata": {
    "jp-MarkdownHeadingCollapsed": true
   },
   "source": [
    "### Simulating different random experiments in Python"
   ]
  },
  {
   "cell_type": "markdown",
   "id": "6bc724f2-facd-4117-b477-71d52d1605a2",
   "metadata": {},
   "source": [
    "#### 1. Single coin toss"
   ]
  },
  {
   "cell_type": "markdown",
   "id": "2d2ab164-45ab-44be-bad8-a84c2b730ce7",
   "metadata": {},
   "source": [
    "To simulate tossing a single fair coin in Python, and in general to perform any random experiment, we can use the `random` module or the `numpy.random` module. The latter is more robust, so we'll use that."
   ]
  },
  {
   "cell_type": "code",
   "execution_count": 2,
   "id": "c00ac1d6-094c-4334-819d-7765c7bc8e78",
   "metadata": {},
   "outputs": [
    {
     "name": "stdout",
     "output_type": "stream",
     "text": [
      "Result: 0\n"
     ]
    }
   ],
   "source": [
    "import numpy as np\n",
    "\n",
    "flip = np.random.randint(0, 2) # Generates 0 or 1, corresponding to heads or tails respectively.\n",
    "print(f'Result: {flip}')"
   ]
  },
  {
   "cell_type": "markdown",
   "id": "e5a696f2-f501-496a-b9ef-f3e01a6cc8bf",
   "metadata": {},
   "source": [
    "Alternatively, we can select a random choice from a list containing the strings 'Heads' and 'Tails'"
   ]
  },
  {
   "cell_type": "code",
   "execution_count": 3,
   "id": "bdb2a5dd-4205-4df4-b891-a87278ff6fde",
   "metadata": {},
   "outputs": [
    {
     "name": "stdout",
     "output_type": "stream",
     "text": [
      "Result: Tails\n"
     ]
    }
   ],
   "source": [
    "sample_space = ['Heads', 'Tails']\n",
    "print(f'Result: {np.random.choice(sample_space)}')"
   ]
  },
  {
   "cell_type": "markdown",
   "id": "412b0a65-0e58-4d80-a521-9a31380e5fcf",
   "metadata": {},
   "source": [
    "Note that, in the latter case using `np.random.choice`, we have to explicitly write out the entire sample space. "
   ]
  },
  {
   "cell_type": "markdown",
   "id": "7449e86d-284b-4c49-9e59-86dbc1046eb8",
   "metadata": {},
   "source": [
    "#### 2. Multiple coin tosses"
   ]
  },
  {
   "cell_type": "markdown",
   "id": "1a4d7ee5-250a-4b28-bd28-fc6ac2ca5647",
   "metadata": {},
   "source": [
    "We can simulate multiple coin tosses in the following fashion. Using `np.random.randint`:"
   ]
  },
  {
   "cell_type": "code",
   "execution_count": 4,
   "id": "f8d210e0-59a9-48f8-be2d-191cd2e1528b",
   "metadata": {},
   "outputs": [
    {
     "name": "stdout",
     "output_type": "stream",
     "text": [
      "Result for multiple flips: [0 1]\n"
     ]
    }
   ],
   "source": [
    "num_flips = 2 # Toss a fair coin twice, or equivalently two fair coins at once.\n",
    "flips = np.random.randint(0, 2, size = 2)\n",
    "print(f'Result for multiple flips: {flips}')"
   ]
  },
  {
   "cell_type": "markdown",
   "id": "c742ec89-c75c-4d80-b467-d13f77c8e9b4",
   "metadata": {},
   "source": [
    "Alternatively, again, selecting a random choice from a list describing the sample space for a single coin toss:"
   ]
  },
  {
   "cell_type": "code",
   "execution_count": 5,
   "id": "bea66fa9-2fc1-4bbb-aad3-2c66650b8858",
   "metadata": {},
   "outputs": [
    {
     "name": "stdout",
     "output_type": "stream",
     "text": [
      "Result for multiple flips: ['Heads' 'Heads']\n"
     ]
    }
   ],
   "source": [
    "num_flips = 2\n",
    "sample_space = ['Heads', 'Tails']\n",
    "flips = np.random.choice(sample_space, size = num_flips)\n",
    "print(f'Result for multiple flips: {flips}')"
   ]
  },
  {
   "cell_type": "markdown",
   "id": "10c292d8-075e-45e8-b736-26f97645dacb",
   "metadata": {},
   "source": [
    "#### 3. Lifetime of a car battery"
   ]
  },
  {
   "cell_type": "markdown",
   "id": "89023537-59f2-44e8-94c2-683393d1a512",
   "metadata": {},
   "source": [
    "The first two examples above have **discrete sample spaces** and are denumerable. We can also consider random experiments with **continuous sample spaces**, such as the observation of the lifetime of a car battery. Say, a car battery can last 100 months at most, and so its lifetime lies somewhere in the interval $[0, 100]$, where a lifetime of 0 corresponds to a defective battery at the point of manufacture. "
   ]
  },
  {
   "cell_type": "markdown",
   "id": "521ccd19-0795-4d9b-bdc4-b59b64f95629",
   "metadata": {},
   "source": [
    "We can use the `numpy.random` module to study continuous sample spaces as well. "
   ]
  },
  {
   "cell_type": "code",
   "execution_count": 6,
   "id": "4a0b7e18-fa89-466c-a84b-094576c215e4",
   "metadata": {},
   "outputs": [
    {
     "name": "stdout",
     "output_type": "stream",
     "text": [
      "Lifetime: 29.699747724266402\n"
     ]
    }
   ],
   "source": [
    "lifetime = np.random.uniform(low = 0.0, high = 100.0, size = None) # Generates a random float in the interval [0, 100] \n",
    "print(f'Lifetime: {lifetime}')"
   ]
  },
  {
   "cell_type": "markdown",
   "id": "d2e1143b-01ab-4eef-9d3b-731dd0e373ea",
   "metadata": {},
   "source": [
    "Again, we can also generate random lifetimes for multiple batteries:"
   ]
  },
  {
   "cell_type": "code",
   "execution_count": 7,
   "id": "b357dd3c-be1d-44ae-86dd-c25134284882",
   "metadata": {},
   "outputs": [
    {
     "name": "stdout",
     "output_type": "stream",
     "text": [
      "Lifetimes: [78.85831564 48.42787598 28.50435607 30.50484688 25.03149858 26.83189939\n",
      " 91.46914471 20.6550159  71.44702701  6.48744607]\n"
     ]
    }
   ],
   "source": [
    "num_batteries = 10\n",
    "lifetimes = np.random.uniform(low = 0.0, high = 100.0, size = num_batteries)\n",
    "print(f'Lifetimes: {lifetimes}')"
   ]
  },
  {
   "cell_type": "markdown",
   "id": "184e0cda-3093-4edb-a4c8-9a1ba442993f",
   "metadata": {},
   "source": [
    "### Axioms of Probability"
   ]
  },
  {
   "cell_type": "markdown",
   "id": "a832df87-c292-4618-abd3-d15300171e18",
   "metadata": {},
   "source": [
    "Let $S$ denote the sample space of an experiemnt. Associated with each event $A$ in $S$ is a number, $P(A)$ , called the **probability** of $A$, which satisfies three axioms:\n",
    "1. $P(A) \\geq 0$,\n",
    "2. $P(S) = 1$,\n",
    "3. If $A$ and $B$ are mutually exclusive events, i.e. $A \\cap B = \\emptyset$, then $P(A \\cup B) = P(A) + P(B)$. "
   ]
  },
  {
   "cell_type": "markdown",
   "id": "7efb5322-1585-4596-80f4-88d58d9f90ec",
   "metadata": {},
   "source": [
    "We have some basic results by virtue of the above 3 axioms:\n",
    "- $P(A^c) = 1 - P(A)$,\n",
    "- $P(A \\cup B) = P(A) + P(B) - P(A \\cap B)$ for any two events $A, B$,\n",
    "- For any two events $A$ and $B$, $P(A) = P(A \\cap B) + P(A \\cap B^c)$ (Caratheodory's criterion from GMT!),\n",
    "- If $B \\subset A$, then $A \\cap B = B$. Therefore, $P(A) - P(B) = P(A \\cap B^c)$ and $P(A) \\geq P(B)$.\n",
    "- **Bonferroni inequality**: $$P(A \\cup B) \\leq P(A) + P(B).$$\n",
    "- **Inclusion-exclusion principle**: $$P(A_1 \\cup \\cdots \\cup A_n) = \\sum_{i = 1}^n P(A_i) - \\sum_{i \\neq j} P(A_i \\cap A_j) + \\sum_{i \\neq j \\neq k} P(A_i \\cap A_j \\cap A_k) - \\cdots + (-1)^{n - 1} P(A_1 \\cap A_2 \\cap \\cdots \\cap A_n).$$"
   ]
  },
  {
   "cell_type": "markdown",
   "id": "4ee42058-345d-4877-9ab8-0c2467573230",
   "metadata": {},
   "source": [
    "### Counting with Python"
   ]
  },
  {
   "cell_type": "markdown",
   "id": "a0c39b5e-fe25-4f0d-9089-120ce0bb92ab",
   "metadata": {},
   "source": [
    "**Counting formula 1:** A **permutation** is an ordered arrangement of distinct items. The total number of permutations of $n$ distinct items is $$n(n - 1) \\cdots (2)(1) = n!$$"
   ]
  },
  {
   "cell_type": "markdown",
   "id": "f74c162c-02d0-443e-8496-eab86622634e",
   "metadata": {},
   "source": [
    "In Python, we call the `factorial` function from the `math` module:"
   ]
  },
  {
   "cell_type": "code",
   "execution_count": 8,
   "id": "e885d2a9-6481-4eb7-b91b-28b32299d0d1",
   "metadata": {},
   "outputs": [
    {
     "name": "stdout",
     "output_type": "stream",
     "text": [
      "120\n"
     ]
    }
   ],
   "source": [
    "import math\n",
    "n = 5\n",
    "# Compute n!\n",
    "result = math.factorial(n)\n",
    "print(result)"
   ]
  },
  {
   "cell_type": "markdown",
   "id": "35c266be-e43e-4980-819d-b1f4e6dc98ba",
   "metadata": {},
   "source": [
    "We can also generate permutations of a given set using the `permutation` function from the `itertools` module. Say I want to generate all ordered arrangements of a list of 3 flavors of vitaminwater®:"
   ]
  },
  {
   "cell_type": "code",
   "execution_count": 9,
   "id": "ea1d1ab2-cefc-4e1c-b423-ad0959714605",
   "metadata": {},
   "outputs": [
    {
     "name": "stdout",
     "output_type": "stream",
     "text": [
      "('Orange', 'Focus Kiwi Strawberry', 'Refresh Tropical Mango')\n",
      "('Orange', 'Refresh Tropical Mango', 'Focus Kiwi Strawberry')\n",
      "('Focus Kiwi Strawberry', 'Orange', 'Refresh Tropical Mango')\n",
      "('Focus Kiwi Strawberry', 'Refresh Tropical Mango', 'Orange')\n",
      "('Refresh Tropical Mango', 'Orange', 'Focus Kiwi Strawberry')\n",
      "('Refresh Tropical Mango', 'Focus Kiwi Strawberry', 'Orange')\n"
     ]
    }
   ],
   "source": [
    "import itertools\n",
    "flavors = ['Orange', 'Focus Kiwi Strawberry', 'Refresh Tropical Mango'] # Refresh tropical mango is probably my favorite\n",
    "# Since there are 3 flavors, we should expect to see a list of 3! = 6 permutations.\n",
    "permutations = list(itertools.permutations(flavors))\n",
    "for _ in permutations:\n",
    "    print(_)\n"
   ]
  },
  {
   "cell_type": "markdown",
   "id": "1f52d114-1c72-4fec-8cb5-a519789b5036",
   "metadata": {},
   "source": [
    "**Counting formula 2**: The number of permutations of $r$ items out of $n$ distinct items is $$n(n - 1)(n - 2) \\cdots (n - r + 1) = \\frac{n(n - 1) \\cdots (n - r + 1)(n - r) \\cdots 1}{(n - r)(n - r - 1) \\cdots 1} = \\frac{n!}{(n - r)!}.$$"
   ]
  },
  {
   "cell_type": "markdown",
   "id": "27a11289-6d3c-44b9-a605-4b6ba348e03d",
   "metadata": {},
   "source": [
    "There is also the \"pick\" notation $_{n}P_r = \\frac{n!}{(n - r)!}$. This quantity is computed in Python as follows using the `math` module:"
   ]
  },
  {
   "cell_type": "code",
   "execution_count": 10,
   "id": "ddc342db-149d-4423-9dec-ee2de326926d",
   "metadata": {},
   "outputs": [
    {
     "name": "stdout",
     "output_type": "stream",
     "text": [
      "6\n"
     ]
    }
   ],
   "source": [
    "# Number of distinct items\n",
    "n = 3\n",
    "# Number of items being picked\n",
    "r = 2\n",
    "\n",
    "nPr = math.perm(n, r)\n",
    "print(nPr)"
   ]
  },
  {
   "cell_type": "markdown",
   "id": "c8a4116d-153c-4364-9f0d-877b17849b3d",
   "metadata": {},
   "source": [
    "We can again use the `itertools` module to generate the different $_nP_r$ permutations of $r$ items out of $n$ distinct items. Back to our vitaminwater® example above:"
   ]
  },
  {
   "cell_type": "code",
   "execution_count": 11,
   "id": "ce440280-635c-4a1a-a322-eb0a65302575",
   "metadata": {},
   "outputs": [
    {
     "name": "stdout",
     "output_type": "stream",
     "text": [
      "('Orange', 'Focus Kiwi Strawberry')\n",
      "('Orange', 'Refresh Tropical Mango')\n",
      "('Focus Kiwi Strawberry', 'Orange')\n",
      "('Focus Kiwi Strawberry', 'Refresh Tropical Mango')\n",
      "('Refresh Tropical Mango', 'Orange')\n",
      "('Refresh Tropical Mango', 'Focus Kiwi Strawberry')\n"
     ]
    }
   ],
   "source": [
    "# Let's generate all permutations of 2 flavors out of 3 flavors of vitamin water, of which there are 3 P 2 = 6:\n",
    "perms = itertools.permutations(flavors, 2)\n",
    "for _ in perms:\n",
    "    print(_)"
   ]
  },
  {
   "cell_type": "markdown",
   "id": "b9922ff9-286d-4ef9-9d32-e2312d04134a",
   "metadata": {},
   "source": [
    "**Counting formula 3**: The number of *unordered* arrangements of $r$ items out of $n$ (number of **combinations**) is $$\\frac{n!}{r!(n - r)!} = \\binom{n}{r}.$$ "
   ]
  },
  {
   "cell_type": "markdown",
   "id": "1a109ddf-f743-4600-9298-6d687161d388",
   "metadata": {},
   "source": [
    "In Python, we compute this using `math.comb()` after importing the math module:"
   ]
  },
  {
   "cell_type": "code",
   "execution_count": 12,
   "id": "d3793f51-1881-4e34-8593-ebfb7db4694b",
   "metadata": {},
   "outputs": [
    {
     "name": "stdout",
     "output_type": "stream",
     "text": [
      "3\n"
     ]
    }
   ],
   "source": [
    "# Number of distinct items\n",
    "n = 3\n",
    "# Number of items being picked\n",
    "r = 2\n",
    "\n",
    "nCr = math.comb(n, r)\n",
    "print(nCr)"
   ]
  },
  {
   "cell_type": "markdown",
   "id": "07012063-4ff2-4996-83eb-d85aa8de2d3e",
   "metadata": {},
   "source": [
    "Using `itertools` to generate the different $_nC_r$ combinations of $r$ items out of $n$ distinct items, we have:"
   ]
  },
  {
   "cell_type": "code",
   "execution_count": 13,
   "id": "8dc2d169-de1f-410f-87cd-734113b99fc4",
   "metadata": {},
   "outputs": [
    {
     "name": "stdout",
     "output_type": "stream",
     "text": [
      "('Orange', 'Focus Kiwi Strawberry')\n",
      "('Orange', 'Refresh Tropical Mango')\n",
      "('Focus Kiwi Strawberry', 'Refresh Tropical Mango')\n"
     ]
    }
   ],
   "source": [
    "combs = itertools.combinations(flavors, 2)\n",
    "for _ in combs:\n",
    "    print(_)"
   ]
  },
  {
   "cell_type": "markdown",
   "id": "fe2486df-c492-4a13-8c7d-b6eb70ab6273",
   "metadata": {},
   "source": [
    "**Counting formula 4**: This is the **multinomial coefficient**, which is computed when we need to count the number of ways of classifying $n$ objects into $k$ groups ($k \\geq 2$) so that there are $r_i$ in group $i$ ($1 \\leq i \\leq k$), $r_1 + r_2 + \\cdots + r_k = n$. It is given by $$\\binom{n}{r_1, r_2, \\dots, r_k} := \\frac{n!}{r_1! r_2! \\cdots r_k!}.$$"
   ]
  },
  {
   "cell_type": "markdown",
   "id": "3cf0833e-0278-4fbc-85f3-d85a96c5f5d5",
   "metadata": {},
   "source": [
    "We can either code our own multinomial coefficient calculator, or we can use the `scipy` module. Unfortunately, there's some version issue right now with `scipy` (of course there is) and I'll have to come back to fix it later."
   ]
  },
  {
   "cell_type": "markdown",
   "id": "1d257c37-ce39-45ad-87a9-6f21cd0b99ea",
   "metadata": {},
   "source": [
    "## 2.2 Conditional Probability and Independence"
   ]
  },
  {
   "cell_type": "markdown",
   "id": "484c0be8-877c-49ff-84e4-696b40082e61",
   "metadata": {},
   "source": [
    "The **conditional probability** of an event $A$ given an event $B$ with $P(B) > 0$ is defined as $$P(A | B) = \\frac{P(A \\cap B)}{P(B)}.$$"
   ]
  },
  {
   "cell_type": "markdown",
   "id": "ccfd7182-9a24-467c-9167-15dfe33cbdf4",
   "metadata": {},
   "source": [
    "We can see that the formula above is true experimentally. Let's simulate an experiment of tossing two fair dice and let $$A = \\{\\text{Sum of the numbers on the dice is 4 or 8}\\}, \\qquad B = \\{\\text{Sum of the numbers on the dice is even}\\}.$$ Our sample space $S$ has 36 elements, and $$A = \\{(1, 3), (2, 2), (3, 1), (2, 6), (3, 5), (4, 4), (5, 3), (6, 2)\\}$$ while $$B = \\{(1, 1), (1, 3), (1, 5), (3, 1), (3, 3), (3, 5), (5, 1), (5, 3), (5, 5), (2, 2), (2, 4), (2, 6), (4, 2), (4, 4), (4, 6), (6, 2), (6, 4), (6, 6)\\}.$$ With $|A| = 8, |B| = 18$, and $A = A \\cap B$, we have $$P(A | B) = \\frac{P(A \\cap B)}{P(B)} = \\frac{8/36}{18/36} = \\frac{4}{9} \\approx 0.44.$$"
   ]
  },
  {
   "cell_type": "markdown",
   "id": "48bb446e-a6bf-4c3e-a8bc-0bd4f5a3bf98",
   "metadata": {},
   "source": [
    "Let's generate a random sample of die tosses using Python. From this sample, we will compute the (experimental) conditional probability of a two-dice toss belonging to $A$, given that it already belongs to $B$. "
   ]
  },
  {
   "cell_type": "code",
   "execution_count": 132,
   "id": "a70db3e6-7f45-45c7-8800-c43b08489f33",
   "metadata": {},
   "outputs": [
    {
     "name": "stdout",
     "output_type": "stream",
     "text": [
      "Experimental probability of B: 0.5098\n",
      "Experimental probability of A and B: 0.2267\n",
      "Conditional (experimental) probability of A given B = 0.4446841898783837\n"
     ]
    }
   ],
   "source": [
    "import numpy as np\n",
    "n = 10000 # Number of tosses\n",
    "tosses = [tuple(np.random.randint(1, 7, size=2)) for _ in range(n)]\n",
    "\n",
    "# To compute the experimental probability of B, we see what proportion of tosses sum to an even number:\n",
    "n_B = 0\n",
    "for toss in tosses:\n",
    "    if sum(toss)%2 == 0:\n",
    "        n_B += 1\n",
    "print(f'Experimental probability of B: {n_B/n}')\n",
    "\n",
    "# Now, compute the experimental probability of A and B:\n",
    "n_AaB = 0\n",
    "\n",
    "for toss in tosses:\n",
    "    if sum(toss)%2 == 0 and (sum(toss) == 4 or sum(toss) == 8):\n",
    "        n_AaB += 1\n",
    "\n",
    "print(f'Experimental probability of A and B: {n_AaB/n}')\n",
    "\n",
    "# Conditional probability of A given B\n",
    "\n",
    "print(f'Conditional (experimental) probability of A given B = {n_AaB/n_B}')"
   ]
  },
  {
   "cell_type": "markdown",
   "id": "242365a8-a422-4851-9c7c-706c0a5c7ea7",
   "metadata": {},
   "source": [
    "For large $n$, we see that the experimental probabilities closely align with the theoretical probabilities computed above. However, we can also compute this another way which is equivalent to computing the left hand side of the conditional probability formula. To do this, we filter `tosses` for those tosses that lie in $B$, and then this becomes our new sample space from which we compute the probability of $A$."
   ]
  },
  {
   "cell_type": "code",
   "execution_count": 142,
   "id": "42bf9700-d3d4-4227-ae74-fefb36643d4f",
   "metadata": {},
   "outputs": [
    {
     "name": "stdout",
     "output_type": "stream",
     "text": [
      "Conditional (experimental) probability of A given B, computed directly: 0.4446841898783837\n"
     ]
    }
   ],
   "source": [
    "B = []\n",
    "# Generate B based off all samples of two-dice tosses.\n",
    "for toss in tosses:\n",
    "    if sum(toss)%2 == 0:\n",
    "        B.append(toss)\n",
    "# Now, we compute P(A) \"relative\" to the sample space B.\n",
    "\n",
    "n_A = 0\n",
    "for toss in B:\n",
    "    if sum(toss) == 4 or sum(toss) == 8:\n",
    "       n_A += 1\n",
    "\n",
    "print(f'Conditional (experimental) probability of A given B, computed directly: {n_A/len(B)}')"
   ]
  },
  {
   "cell_type": "markdown",
   "id": "4126e511-2390-41af-8a9c-fcea3614e53d",
   "metadata": {},
   "source": [
    "We see that either way, we get the same answer. While the first way requires more code, it is actually more practical to compute in practice. "
   ]
  },
  {
   "cell_type": "markdown",
   "id": "0439eed6-35da-4915-9523-1098d324c8a9",
   "metadata": {},
   "source": []
  },
  {
   "cell_type": "code",
   "execution_count": null,
   "id": "1ca0cfde-f9f3-403f-85ef-2148ff62f34e",
   "metadata": {},
   "outputs": [],
   "source": []
  }
 ],
 "metadata": {
  "kernelspec": {
   "display_name": "Python [conda env:base] *",
   "language": "python",
   "name": "conda-base-py"
  },
  "language_info": {
   "codemirror_mode": {
    "name": "ipython",
    "version": 3
   },
   "file_extension": ".py",
   "mimetype": "text/x-python",
   "name": "python",
   "nbconvert_exporter": "python",
   "pygments_lexer": "ipython3",
   "version": "3.12.7"
  }
 },
 "nbformat": 4,
 "nbformat_minor": 5
}
